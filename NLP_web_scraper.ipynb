{
  "cells": [
    {
      "cell_type": "markdown",
      "metadata": {
        "id": "view-in-github",
        "colab_type": "text"
      },
      "source": [
        "<a href=\"https://colab.research.google.com/github/jaylgee/NLP-Web-Scraper/blob/main/NLP_web_scraper.ipynb\" target=\"_parent\"><img src=\"https://colab.research.google.com/assets/colab-badge.svg\" alt=\"Open In Colab\"/></a>"
      ]
    },
    {
      "cell_type": "markdown",
      "metadata": {
        "id": "luyWe9n6K_u5"
      },
      "source": [
        "**THE ASSIGNMENT**\n",
        "\n",
        "Produce a scraper function that can return the following information when given a URL from the BBC news page:\n",
        "\n",
        "a) URL (For example https://www.bbc.co.uk/news/uk-51004218)\n",
        "\n",
        "b) Title\n",
        "\n",
        "c) Date\n",
        "\n",
        "d) Content (the main body of article)\n",
        "\n",
        "**Part 2**:  Write a function that when given a block of text (as a string)  returns all the following entities in a json object:\n",
        "\n",
        "a) people\n",
        "\n",
        "b) places\n",
        "\n",
        "c) organisations\n"
      ]
    },
    {
      "cell_type": "code",
      "metadata": {
        "id": "0kV2yn3KLU68",
        "colab": {
          "base_uri": "https://localhost:8080/"
        },
        "outputId": "68a9def5-b583-4a81-c335-95c424c02cbb"
      },
      "source": [
        "# Import dependencies\n",
        "import pytest\n",
        "! pip install beautifulsoup4 requests\n",
        "! pip install spacy\n",
        "\n",
        "from bs4 import BeautifulSoup\n",
        "import requests\n",
        "import json\n",
        "import spacy"
      ],
      "execution_count": 15,
      "outputs": [
        {
          "output_type": "stream",
          "name": "stdout",
          "text": [
            "Requirement already satisfied: beautifulsoup4 in /usr/local/lib/python3.10/dist-packages (4.11.2)\n",
            "Requirement already satisfied: requests in /usr/local/lib/python3.10/dist-packages (2.31.0)\n",
            "Requirement already satisfied: soupsieve>1.2 in /usr/local/lib/python3.10/dist-packages (from beautifulsoup4) (2.5)\n",
            "Requirement already satisfied: charset-normalizer<4,>=2 in /usr/local/lib/python3.10/dist-packages (from requests) (3.3.2)\n",
            "Requirement already satisfied: idna<4,>=2.5 in /usr/local/lib/python3.10/dist-packages (from requests) (3.4)\n",
            "Requirement already satisfied: urllib3<3,>=1.21.1 in /usr/local/lib/python3.10/dist-packages (from requests) (2.0.7)\n",
            "Requirement already satisfied: certifi>=2017.4.17 in /usr/local/lib/python3.10/dist-packages (from requests) (2023.7.22)\n",
            "Requirement already satisfied: spacy in /usr/local/lib/python3.10/dist-packages (3.6.1)\n",
            "Requirement already satisfied: spacy-legacy<3.1.0,>=3.0.11 in /usr/local/lib/python3.10/dist-packages (from spacy) (3.0.12)\n",
            "Requirement already satisfied: spacy-loggers<2.0.0,>=1.0.0 in /usr/local/lib/python3.10/dist-packages (from spacy) (1.0.5)\n",
            "Requirement already satisfied: murmurhash<1.1.0,>=0.28.0 in /usr/local/lib/python3.10/dist-packages (from spacy) (1.0.10)\n",
            "Requirement already satisfied: cymem<2.1.0,>=2.0.2 in /usr/local/lib/python3.10/dist-packages (from spacy) (2.0.8)\n",
            "Requirement already satisfied: preshed<3.1.0,>=3.0.2 in /usr/local/lib/python3.10/dist-packages (from spacy) (3.0.9)\n",
            "Requirement already satisfied: thinc<8.2.0,>=8.1.8 in /usr/local/lib/python3.10/dist-packages (from spacy) (8.1.12)\n",
            "Requirement already satisfied: wasabi<1.2.0,>=0.9.1 in /usr/local/lib/python3.10/dist-packages (from spacy) (1.1.2)\n",
            "Requirement already satisfied: srsly<3.0.0,>=2.4.3 in /usr/local/lib/python3.10/dist-packages (from spacy) (2.4.8)\n",
            "Requirement already satisfied: catalogue<2.1.0,>=2.0.6 in /usr/local/lib/python3.10/dist-packages (from spacy) (2.0.10)\n",
            "Requirement already satisfied: typer<0.10.0,>=0.3.0 in /usr/local/lib/python3.10/dist-packages (from spacy) (0.9.0)\n",
            "Requirement already satisfied: pathy>=0.10.0 in /usr/local/lib/python3.10/dist-packages (from spacy) (0.10.3)\n",
            "Requirement already satisfied: smart-open<7.0.0,>=5.2.1 in /usr/local/lib/python3.10/dist-packages (from spacy) (6.4.0)\n",
            "Requirement already satisfied: tqdm<5.0.0,>=4.38.0 in /usr/local/lib/python3.10/dist-packages (from spacy) (4.66.1)\n",
            "Requirement already satisfied: numpy>=1.15.0 in /usr/local/lib/python3.10/dist-packages (from spacy) (1.23.5)\n",
            "Requirement already satisfied: requests<3.0.0,>=2.13.0 in /usr/local/lib/python3.10/dist-packages (from spacy) (2.31.0)\n",
            "Requirement already satisfied: pydantic!=1.8,!=1.8.1,<3.0.0,>=1.7.4 in /usr/local/lib/python3.10/dist-packages (from spacy) (1.10.13)\n",
            "Requirement already satisfied: jinja2 in /usr/local/lib/python3.10/dist-packages (from spacy) (3.1.2)\n",
            "Requirement already satisfied: setuptools in /usr/local/lib/python3.10/dist-packages (from spacy) (67.7.2)\n",
            "Requirement already satisfied: packaging>=20.0 in /usr/local/lib/python3.10/dist-packages (from spacy) (23.2)\n",
            "Requirement already satisfied: langcodes<4.0.0,>=3.2.0 in /usr/local/lib/python3.10/dist-packages (from spacy) (3.3.0)\n",
            "Requirement already satisfied: typing-extensions>=4.2.0 in /usr/local/lib/python3.10/dist-packages (from pydantic!=1.8,!=1.8.1,<3.0.0,>=1.7.4->spacy) (4.5.0)\n",
            "Requirement already satisfied: charset-normalizer<4,>=2 in /usr/local/lib/python3.10/dist-packages (from requests<3.0.0,>=2.13.0->spacy) (3.3.2)\n",
            "Requirement already satisfied: idna<4,>=2.5 in /usr/local/lib/python3.10/dist-packages (from requests<3.0.0,>=2.13.0->spacy) (3.4)\n",
            "Requirement already satisfied: urllib3<3,>=1.21.1 in /usr/local/lib/python3.10/dist-packages (from requests<3.0.0,>=2.13.0->spacy) (2.0.7)\n",
            "Requirement already satisfied: certifi>=2017.4.17 in /usr/local/lib/python3.10/dist-packages (from requests<3.0.0,>=2.13.0->spacy) (2023.7.22)\n",
            "Requirement already satisfied: blis<0.8.0,>=0.7.8 in /usr/local/lib/python3.10/dist-packages (from thinc<8.2.0,>=8.1.8->spacy) (0.7.11)\n",
            "Requirement already satisfied: confection<1.0.0,>=0.0.1 in /usr/local/lib/python3.10/dist-packages (from thinc<8.2.0,>=8.1.8->spacy) (0.1.3)\n",
            "Requirement already satisfied: click<9.0.0,>=7.1.1 in /usr/local/lib/python3.10/dist-packages (from typer<0.10.0,>=0.3.0->spacy) (8.1.7)\n",
            "Requirement already satisfied: MarkupSafe>=2.0 in /usr/local/lib/python3.10/dist-packages (from jinja2->spacy) (2.1.3)\n"
          ]
        }
      ]
    },
    {
      "cell_type": "code",
      "metadata": {
        "id": "auv9_6KdK8HS"
      },
      "source": [
        "def bbc_scraper(url):\n",
        "    \"\"\"\n",
        "    This function takes a url relating to a BBC news site\n",
        "    and returns a json object containing the following fields:\n",
        "    URL, title, date_published, content\n",
        "    \"\"\"\n",
        "\n",
        "    get_data = requests.get(url)\n",
        "    bbc_soup = BeautifulSoup(get_data.text, 'html.parser')\n",
        "    titles = bbc_soup.h1.text\n",
        "    dates_published = bbc_soup.time.text\n",
        "    content_data = bbc_soup.article\n",
        "    content_results = content_data.find_all(\"div\", attrs={\"data-component\":\"text-block\"})\n",
        "    article_content = \"\"\n",
        "\n",
        "    for i in range(len(content_results)):\n",
        "      if i == len(content_results)-1:\n",
        "        article_content += content_results[i].text\n",
        "      else:\n",
        "        article_content += content_results[i].text + \" \"\n",
        "\n",
        "    results_dict = {\n",
        "        'URL': url,\n",
        "        'Title': titles,\n",
        "        'Date_published': dates_published,\n",
        "        'Content': article_content\n",
        "       }\n",
        "\n",
        "    results_json = json.dumps(results_dict)\n",
        "    return results_json"
      ],
      "execution_count": 16,
      "outputs": []
    },
    {
      "cell_type": "code",
      "source": [
        "# TEST 1: function with first test case url\n",
        "bbc_results = bbc_scraper('https://www.bbc.co.uk/news/uk-52255054')\n",
        "print(bbc_results)\n",
        "\n",
        "# TEST 2: function with second test case url\n",
        "bbc_results_two = bbc_scraper('https://www.bbc.co.uk/news/uk-51004218')\n",
        "print(bbc_results_two)\n",
        "\n",
        "# TEST 2: function iterating over a list of urls\n",
        "urls = ['https://www.bbc.co.uk/news/uk-52255054', 'https://www.bbc.co.uk/news/uk-51004218']\n",
        "for url in urls:\n",
        "   print(bbc_scraper(url))\n",
        "\n",
        "# TEST 3: function with current bbc news url\n",
        "news = bbc_scraper('https://www.bbc.co.uk/news/world-europe-65740839')\n",
        "print(news)"
      ],
      "metadata": {
        "colab": {
          "base_uri": "https://localhost:8080/"
        },
        "id": "LSXu8Iakb9SK",
        "outputId": "a699aa30-dcea-4003-ab67-2ece399deaf4"
      },
      "execution_count": 17,
      "outputs": [
        {
          "output_type": "stream",
          "name": "stdout",
          "text": [
            "{\"URL\": \"https://www.bbc.co.uk/news/uk-52255054\", \"Title\": \"Coronavirus: 'We need Easter as much as ever,' says the Queen\", \"Date_published\": \"11 April 2020\", \"Content\": \"\\\"Coronavirus will not overcome us,\\\" the Queen has said, in an Easter message to the nation. While celebrations would be different for many this year, she said: \\\"We need Easter as much as ever.\\\" Referencing the tradition of lighting candles to mark the occasion, she said: \\\"As dark as death can be - particularly for those suffering with grief - light and life are greater.\\\" It comes as the number of coronavirus deaths in UK hospitals reached 9,875. Speaking from Windsor Castle, the Queen said many religions had festivals celebrating light overcoming darkness, which often featured the lighting of candles. She said: \\\"They seem to speak to every culture, and appeal to people of all faiths, and of none. \\\"They are lit on birthday cakes and to mark family anniversaries, when we gather happily around a source of light. It unites us.\\\" The monarch, who is head of the Church of England, said: \\\"As darkness falls on the Saturday before Easter Day, many Christians would normally light candles together.  \\\"In church, one light would pass to another, spreading slowly and then more rapidly as more candles are lit. It's a way of showing how the good news of Christ's resurrection has been passed on from the first Easter by every generation until now.\\\" As far as we know, this is the first time the Queen has released an Easter message. And coming as it does less than a week since the televised broadcast to the nation, it underlines the gravity of the situation as it is regarded by the monarch. It serves two purposes really; it is underlining the government's public safety message, acknowledging Easter will be difficult for us but by keeping apart we keep others safe, and the broader Christian message of hope and reassurance.  We know how important her Christian faith is, and coming on the eve of Easter Sunday, it is clearly a significant time for people of all faiths, but particularly Christian faith. She said the discovery of the risen Christ on the first Easter Day gave his followers new hope and fresh purpose, adding that we could all take heart from this.  Wishing everyone of all faiths and denominations a blessed Easter, she said: \\\"May the living flame of the Easter hope be a steady guide as we face the future.\\\" The Queen, 93, recorded the audio message in the White Drawing Room at Windsor Castle, with one sound engineer in the next room.  The Palace described it as \\\"Her Majesty's contribution to those who are celebrating Easter privately\\\".  It follows a speech on Sunday, in which the monarch delivered a rallying message to the nation. In it, she said the UK \\\"will succeed\\\" in its fight against the coronavirus pandemic, thanked people for following government rules about staying at home and praised those \\\"coming together to help others\\\". She also thanked key workers, saying \\\"every hour\\\" of work \\\"brings us closer to a return to more normal times\\\".\"}\n",
            "{\"URL\": \"https://www.bbc.co.uk/news/uk-51004218\", \"Title\": \"Qasem Soleimani: Let British troops stay in Iraq, UK urges\", \"Date_published\": \"6 January 2020\", \"Content\": \"No 10 has urged Iraq to allow UK troops to stay in the country following the US assassination of Iranian general Qasem Soleimani, saying their work is vital. Soleimani was killed in a US drone strike in Iraq on Friday on the orders of President Donald Trump. Iraqi MPs responded to the strike by passing a non-binding resolution calling for an end to the foreign military presence in their country. European leaders have called for all sides to show restraint.  Meanwhile, US Defence Secretary Mark Esper has denied US troops are pulling out of Iraq, after a letter from a US general there suggested a withdrawal. The letter said the US would be \\\"repositioning forces in the coming days and weeks\\\" - but Mr Esper said there had been \\\"no decision whatsoever to leave\\\". Earlier, Boris Johnson spoke to Iraqi Prime Minister Adel Abdul Mahdi by phone, and a Downing Street spokesman said the leaders had \\\"agreed to work together to find a diplomatic way forward\\\".  \\\"The prime minister underlined the UK's unwavering commitment to Iraq's stability and sovereignty and emphasised the importance of the continued fight against the shared threat from Daesh [the Islamic State group]\\\".  Mr Johnson then chaired a meeting of senior ministers to discuss the deepening crisis.  Afterwards, Foreign Secretary Dominic Raab said the government's key message was the \\\"importance of de-escalating the tensions and finding a diplomatic way through this crisis\\\". He also distanced the UK from the US president's threat that cultural sites in Iran could be targeted, saying: \\\"We have been clear cultural sites are protected under international law and we would expect that to be respected.\\\" About 400 British troops are stationed in Iraq, while the US has 5,200.  Nato Secretary General Jens Stoltenberg announced on Monday that the alliance's forces had suspended training in Iraq. Only a small number of the UK troops in Iraq are involved in that operation. The Army says that British troops are in the country to provide training and equipment to Iraqi and Kurdish security forces - rather than in a combat role - and have trained more than 25,000 Iraqi forces. Caretaker Iraqi Prime Minister Mr Abdul Mahdi spoke in favour of US and other foreign forces leaving the country, although most Sunni and Kurdish MPs boycotted the vote. A UK government spokesman said that coalition forces were in Iraq to protect its people and others from the Islamic State group, at the request of the Iraqi government. Meanwhile, Iran's ambassador to the UK has strongly denied reports in the Times that his country had threatened to kill British troops following the assassination of Soleimani.  The paper quotes an unnamed senior commander in Iran's Revolutionary Guard as saying that its forces would \\\"target US troops in the Middle East without any concern about killing its allies, including UK troops\\\".  But Hamid Baeidinejad described the story as \\\"provocative\\\" and a \\\"vicious lie\\\" in a Twitter post.  \\\"I will ask the concerned UK authorities to take swift action to stop such malicious false propaganda in this very sensitive time,\\\" he said.  An Iranian Embassy official also told the BBC there were no plans to attack British targets and said any suggestion that an attack could take place in Britain was laughable, adding \\\"we are not idiots\\\".   Retired army officer Sir Simon Vincent Mayall warned on Radio 4's Today programme that British troops serving in the Middle East could \\\"possibly\\\" be killed in retaliation attacks on US soldiers.  The Ministry of Defence adviser said western allied troops stationed in neighbouring Iraq were \\\"joined at the hip\\\" and that casualties could be shared in Iraq if Iran hits back. In a joint statement issued on Sunday night, Mr Johnson, Germany's Angela Merkel and France's Emmanuel Macron said the current cycle of violence \\\"must be stopped\\\" and called on Iran to refrain from further violent action and proliferation. The three leaders said they were concerned by the \\\"negative\\\" role Iran has played in the region but called on \\\"all parties to exercise utmost restraint and responsibility\\\". With tensions rising in the region, Iran has responded by vowing revenge and announcing it will no longer abide by the restrictions in its 2015 nuclear deal. The deal limited Iranian nuclear capacities in exchange for the lifting of economic sanctions. A No 10 spokesman said Iran's announcement was \\\"extremely concerning\\\".  \\\"It's in everyone's interest that the deal remains in place,\\\" he said, adding that \\\"it makes the world safer\\\".  \\\"We've always said the nuclear deal is a reciprocal deal and in light of Iran's announcement we are urgently speaking to partners about next steps,\\\" the spokesman said.  In their statement, the three European leaders urged the country to \\\"reverse all measures inconsistent with\\\" the deal.  Mr Johnson said he spoke to President Trump on Sunday about the assassination of the Iranian general, who spearheaded the country's military operations in the Middle East as head of the elite Quds Force. The White House said the two leaders had \\\"reaffirmed the close alliance between the two countries\\\". Following warnings from Iran, Mr Trump said that the US would respond in the event of retaliation for Soleimani's death, \\\"perhaps in a disproportionate manner\\\". He repeated a threat to target Iranian cultural sites, saying the US would \\\"strike very fast and very hard\\\" if Tehran attacked Americans or US assets. On Monday, former foreign secretary Jeremy Hunt told BBC Breakfast one \\\"heartbreaking\\\" result of the crisis was that it was now going to be \\\"much harder\\\" to secure the release of British-Iranian woman Nazanin Zaghari-Ratcliffe.  She was jailed in Iran over spying allegations that she denies. Meanwhile, a British frigate and destroyer - HMS Montrose and HMS Defender - are to start accompanying UK-flagged ships through the Strait of Hormuz in the Gulf, where a tanker was seized by Iran last July.\"}\n",
            "{\"URL\": \"https://www.bbc.co.uk/news/uk-52255054\", \"Title\": \"Coronavirus: 'We need Easter as much as ever,' says the Queen\", \"Date_published\": \"11 April 2020\", \"Content\": \"\\\"Coronavirus will not overcome us,\\\" the Queen has said, in an Easter message to the nation. While celebrations would be different for many this year, she said: \\\"We need Easter as much as ever.\\\" Referencing the tradition of lighting candles to mark the occasion, she said: \\\"As dark as death can be - particularly for those suffering with grief - light and life are greater.\\\" It comes as the number of coronavirus deaths in UK hospitals reached 9,875. Speaking from Windsor Castle, the Queen said many religions had festivals celebrating light overcoming darkness, which often featured the lighting of candles. She said: \\\"They seem to speak to every culture, and appeal to people of all faiths, and of none. \\\"They are lit on birthday cakes and to mark family anniversaries, when we gather happily around a source of light. It unites us.\\\" The monarch, who is head of the Church of England, said: \\\"As darkness falls on the Saturday before Easter Day, many Christians would normally light candles together.  \\\"In church, one light would pass to another, spreading slowly and then more rapidly as more candles are lit. It's a way of showing how the good news of Christ's resurrection has been passed on from the first Easter by every generation until now.\\\" As far as we know, this is the first time the Queen has released an Easter message. And coming as it does less than a week since the televised broadcast to the nation, it underlines the gravity of the situation as it is regarded by the monarch. It serves two purposes really; it is underlining the government's public safety message, acknowledging Easter will be difficult for us but by keeping apart we keep others safe, and the broader Christian message of hope and reassurance.  We know how important her Christian faith is, and coming on the eve of Easter Sunday, it is clearly a significant time for people of all faiths, but particularly Christian faith. She said the discovery of the risen Christ on the first Easter Day gave his followers new hope and fresh purpose, adding that we could all take heart from this.  Wishing everyone of all faiths and denominations a blessed Easter, she said: \\\"May the living flame of the Easter hope be a steady guide as we face the future.\\\" The Queen, 93, recorded the audio message in the White Drawing Room at Windsor Castle, with one sound engineer in the next room.  The Palace described it as \\\"Her Majesty's contribution to those who are celebrating Easter privately\\\".  It follows a speech on Sunday, in which the monarch delivered a rallying message to the nation. In it, she said the UK \\\"will succeed\\\" in its fight against the coronavirus pandemic, thanked people for following government rules about staying at home and praised those \\\"coming together to help others\\\". She also thanked key workers, saying \\\"every hour\\\" of work \\\"brings us closer to a return to more normal times\\\".\"}\n",
            "{\"URL\": \"https://www.bbc.co.uk/news/uk-51004218\", \"Title\": \"Qasem Soleimani: Let British troops stay in Iraq, UK urges\", \"Date_published\": \"6 January 2020\", \"Content\": \"No 10 has urged Iraq to allow UK troops to stay in the country following the US assassination of Iranian general Qasem Soleimani, saying their work is vital. Soleimani was killed in a US drone strike in Iraq on Friday on the orders of President Donald Trump. Iraqi MPs responded to the strike by passing a non-binding resolution calling for an end to the foreign military presence in their country. European leaders have called for all sides to show restraint.  Meanwhile, US Defence Secretary Mark Esper has denied US troops are pulling out of Iraq, after a letter from a US general there suggested a withdrawal. The letter said the US would be \\\"repositioning forces in the coming days and weeks\\\" - but Mr Esper said there had been \\\"no decision whatsoever to leave\\\". Earlier, Boris Johnson spoke to Iraqi Prime Minister Adel Abdul Mahdi by phone, and a Downing Street spokesman said the leaders had \\\"agreed to work together to find a diplomatic way forward\\\".  \\\"The prime minister underlined the UK's unwavering commitment to Iraq's stability and sovereignty and emphasised the importance of the continued fight against the shared threat from Daesh [the Islamic State group]\\\".  Mr Johnson then chaired a meeting of senior ministers to discuss the deepening crisis.  Afterwards, Foreign Secretary Dominic Raab said the government's key message was the \\\"importance of de-escalating the tensions and finding a diplomatic way through this crisis\\\". He also distanced the UK from the US president's threat that cultural sites in Iran could be targeted, saying: \\\"We have been clear cultural sites are protected under international law and we would expect that to be respected.\\\" About 400 British troops are stationed in Iraq, while the US has 5,200.  Nato Secretary General Jens Stoltenberg announced on Monday that the alliance's forces had suspended training in Iraq. Only a small number of the UK troops in Iraq are involved in that operation. The Army says that British troops are in the country to provide training and equipment to Iraqi and Kurdish security forces - rather than in a combat role - and have trained more than 25,000 Iraqi forces. Caretaker Iraqi Prime Minister Mr Abdul Mahdi spoke in favour of US and other foreign forces leaving the country, although most Sunni and Kurdish MPs boycotted the vote. A UK government spokesman said that coalition forces were in Iraq to protect its people and others from the Islamic State group, at the request of the Iraqi government. Meanwhile, Iran's ambassador to the UK has strongly denied reports in the Times that his country had threatened to kill British troops following the assassination of Soleimani.  The paper quotes an unnamed senior commander in Iran's Revolutionary Guard as saying that its forces would \\\"target US troops in the Middle East without any concern about killing its allies, including UK troops\\\".  But Hamid Baeidinejad described the story as \\\"provocative\\\" and a \\\"vicious lie\\\" in a Twitter post.  \\\"I will ask the concerned UK authorities to take swift action to stop such malicious false propaganda in this very sensitive time,\\\" he said.  An Iranian Embassy official also told the BBC there were no plans to attack British targets and said any suggestion that an attack could take place in Britain was laughable, adding \\\"we are not idiots\\\".   Retired army officer Sir Simon Vincent Mayall warned on Radio 4's Today programme that British troops serving in the Middle East could \\\"possibly\\\" be killed in retaliation attacks on US soldiers.  The Ministry of Defence adviser said western allied troops stationed in neighbouring Iraq were \\\"joined at the hip\\\" and that casualties could be shared in Iraq if Iran hits back. In a joint statement issued on Sunday night, Mr Johnson, Germany's Angela Merkel and France's Emmanuel Macron said the current cycle of violence \\\"must be stopped\\\" and called on Iran to refrain from further violent action and proliferation. The three leaders said they were concerned by the \\\"negative\\\" role Iran has played in the region but called on \\\"all parties to exercise utmost restraint and responsibility\\\". With tensions rising in the region, Iran has responded by vowing revenge and announcing it will no longer abide by the restrictions in its 2015 nuclear deal. The deal limited Iranian nuclear capacities in exchange for the lifting of economic sanctions. A No 10 spokesman said Iran's announcement was \\\"extremely concerning\\\".  \\\"It's in everyone's interest that the deal remains in place,\\\" he said, adding that \\\"it makes the world safer\\\".  \\\"We've always said the nuclear deal is a reciprocal deal and in light of Iran's announcement we are urgently speaking to partners about next steps,\\\" the spokesman said.  In their statement, the three European leaders urged the country to \\\"reverse all measures inconsistent with\\\" the deal.  Mr Johnson said he spoke to President Trump on Sunday about the assassination of the Iranian general, who spearheaded the country's military operations in the Middle East as head of the elite Quds Force. The White House said the two leaders had \\\"reaffirmed the close alliance between the two countries\\\". Following warnings from Iran, Mr Trump said that the US would respond in the event of retaliation for Soleimani's death, \\\"perhaps in a disproportionate manner\\\". He repeated a threat to target Iranian cultural sites, saying the US would \\\"strike very fast and very hard\\\" if Tehran attacked Americans or US assets. On Monday, former foreign secretary Jeremy Hunt told BBC Breakfast one \\\"heartbreaking\\\" result of the crisis was that it was now going to be \\\"much harder\\\" to secure the release of British-Iranian woman Nazanin Zaghari-Ratcliffe.  She was jailed in Iran over spying allegations that she denies. Meanwhile, a British frigate and destroyer - HMS Montrose and HMS Defender - are to start accompanying UK-flagged ships through the Strait of Hormuz in the Gulf, where a tanker was seized by Iran last July.\"}\n",
            "{\"URL\": \"https://www.bbc.co.uk/news/world-europe-65740839\", \"Title\": \"Ukraine war: Gen Kyrylo Budanov promises revenge after latest Kyiv attack\", \"Date_published\": \"29 May\", \"Content\": \"The head of Ukraine's military intelligence has warned of a swift response to a series of Russian missile strikes on Kyiv.  Gen Kyrylo Budanov said Monday's attacks failed to intimidate people in the capital who just got on with life.  All the missiles were shot down, officials said, and there were no reports of casualties. However flaming debris from the intercepted missiles landed in residential areas in central Kyiv. Monday's attack followed two nights of heavy drone strikes, the latest in some 16 air attacks on the Ukrainian capital this month. The latest was unusual because it came during the day and seemed targeted at the city centre, whereas other strikes on Kyiv in May have been at night and directed at key infrastructure or air defences on the outskirts.  Gen Budanov said he wanted to \\\"upset\\\" Russia's supporters by letting them know people in Kyiv were undeterred by the attack and had continued working after it.  \\\"All those who tried to intimidate us, dreaming that it would have some effect, you will regret it very soon,\\\" he added in a statement published by Ukraine's intelligence ministry. \\\"Our answer will not be long.\\\" According to reports, only one person was injured and all missiles were destroyed by Ukrainian air defences. Russian authorities claimed all their targets had been hit. Air raid sirens reportedly also rang out across several other Ukrainian regions.  Local military commanders in Kyiv accused Russia of changing its tactics and deliberately targeting the civilian population. It certainly appears that Moscow wants to step up its pressure on Ukraine even further ahead of any counter-offensive. Oleksandr Scherba, ambassador-at-large at Ukraine's ministry of foreign affairs, told the BBC that the last few days had been very difficult for Kyiv residents. \\\"Almost every night, the skies look and sound like another Star Wars episode, but we don't feel much of Russian rockets hitting their targets here within the city area.  And this is all thanks to the decent countries, decent people of the world who gave us this air defence,\\\" he said. Living in the capital was anything but normal at the moment, Mr Scherba said, adding that the drone attacks and sleepless nights had become \\\"part of our routine\\\".  On Sunday, Ukraine's President Volodymyr Zelensky praised his country's air defence forces after Kyiv sustained the largest drone attack since the war began. \\\"You are heroes,\\\" said Mr Zelensky, after military commanders said most of the drones launched by Russia were brought down. In its recent attacks, Russia - which launched its full-scale invasion in February 2022 - has been using kamikaze drones as well as a range of cruise and ballistic missiles.  Analysts say Moscow is seeking to deplete and damage Ukraine's air defences ahead of its long-expected counter-offensive.  Ukraine has been planning a counter-offensive for months. But it has wanted as much time as possible to train troops and to receive military equipment from Western allies. On Monday, in Russian region of Belgorod, the governor said that several frontier settlements were being shelled simultaneously by Ukrainian forces. In the meantime, Russian forces have been preparing their defences in the seized regions of south-eastern Ukraine.\"}\n"
          ]
        }
      ]
    },
    {
      "cell_type": "code",
      "metadata": {
        "id": "FDvLnOzZK79s"
      },
      "source": [
        "def extract_entities(string):\n",
        "    \"\"\"\n",
        "    This function returns a json containing the people, places, and\n",
        "    organisations in the text string provided.\n",
        "    \"\"\"\n",
        "\n",
        "    # load english tokenizer and entity recognizer\n",
        "    # Ref: spacy.io accessed 29 May 23\n",
        "    english_tokenizer = spacy.load(\"en_core_web_sm\")\n",
        "    corpus = english_tokenizer(string)\n",
        "    # create dictionary as basis for entities json\n",
        "    entities_results = {\n",
        "          'people': [],\n",
        "          'places': [],\n",
        "          'organisations': []\n",
        "          }\n",
        "    for entity in corpus.ents:\n",
        "      # print(entity.text, entity.label)\n",
        "      if entity.label == 383:  # organisations\n",
        "        entities_results['organisations'].append(entity.text)\n",
        "      if entity.label == 380:  # people\n",
        "        entities_results['people'].append(entity.text)\n",
        "      if entity.label == 384:  # places\n",
        "        entities_results['places'].append(entity.text)\n",
        "    entities_json = json.dumps(entities_results)\n",
        "    return entities_json"
      ],
      "execution_count": 18,
      "outputs": []
    },
    {
      "cell_type": "code",
      "source": [
        "# ENTITY TEST 1: function identifies test case entities\n",
        "extract_entities(\"I work for Google, my name is Pete, I live in San Francisco\")\n",
        "\n",
        "# ENTITY TEST 2: function identifies entities from news article content\n",
        "print(extract_entities(news))\n",
        "print(extract_entities(bbc_results_two))"
      ],
      "metadata": {
        "colab": {
          "base_uri": "https://localhost:8080/"
        },
        "id": "gCIa90af3JpT",
        "outputId": "66a12e05-bc8b-4507-cc2f-36e0c803409f"
      },
      "execution_count": 19,
      "outputs": [
        {
          "output_type": "stream",
          "name": "stdout",
          "text": [
            "{\"people\": [\"Gen Kyrylo Budanov\", \"Gen Kyrylo Budanov\", \"Gen Budanov\", \"Oleksandr Scherba\", \"Scherba\", \"Volodymyr Zelensky\", \"Kyiv\", \"Mr Zelensky\"], \"places\": [\"Ukraine\", \"Russia\", \"Ukraine\", \"Ukrainian\", \"Kyiv\", \"Russia\", \"Moscow\", \"Ukraine\", \"Ukraine\", \"Ukraine\", \"Russia\", \"Russia\", \"Moscow\", \"Ukraine\", \"Ukraine\", \"Belgorod\", \"Ukraine\"], \"organisations\": [\"BBC\"]}\n",
            "{\"people\": [\"Qasem Soleimani\", \"Soleimani\", \"Donald Trump\", \"Mark Esper\", \"Esper\", \"Boris Johnson\", \"Adel Abdul Mahdi\", \"Johnson\", \"Dominic Raab\", \"Jens Stoltenberg\", \"Mr Abdul Mahdi\", \"Hamid Baeidinejad\", \"Twitter\", \"Simon Vincent Mayall\", \"Johnson\", \"Angela Merkel\", \"Emmanuel Macron\", \"\\\\\\\"It\", \"Johnson\", \"Trump\", \"Trump\", \"Soleimani\", \"Jeremy Hunt\", \"Nazanin Zaghari-Ratcliffe\"], \"places\": [\"Iraq\", \"UK\", \"Iraq\", \"UK\", \"US\", \"US\", \"Iraq\", \"US\", \"US\", \"Iraq\", \"US\", \"US\", \"UK\", \"Iraq\", \"Daesh\", \"UK\", \"US\", \"Iran\", \"Iraq\", \"US\", \"Iraq\", \"UK\", \"Iraq\", \"US\", \"UK\", \"Iraq\", \"Iran\", \"UK\", \"Soleimani\", \"Iran\", \"US\", \"UK\", \"UK\", \"Britain\", \"US\", \"Iraq\", \"Iraq\", \"Iran\", \"Germany\", \"France\", \"Iran\", \"Iran\", \"Iran\", \"Iran\", \"Iran\", \"Iran\", \"US\", \"US\", \"Tehran\", \"US\", \"Iran\", \"UK\", \"Iran\"], \"organisations\": [\"Downing Street\", \"Nato\", \"Army\", \"Times\", \"Revolutionary Guard\", \"Iranian Embassy\", \"BBC\", \"Radio 4's\", \"The Ministry of Defence\", \"Quds Force\", \"The White House\", \"BBC Breakfast\"]}\n"
          ]
        }
      ]
    },
    {
      "cell_type": "code",
      "metadata": {
        "id": "iuiH-IhIK73H"
      },
      "source": [
        "####################################################################\n",
        "# Test cases (partially adapted from provided code)\n",
        "\n",
        "def test_bbc_scrape():\n",
        "    results = {'URL': 'https://www.bbc.co.uk/news/uk-52255054',\n",
        "                'Title': 'Coronavirus: \\'We need Easter as much as ever,\\' says the Queen',\n",
        "                'Date_published': '11 April 2020',\n",
        "                'Content': '\"Coronavirus will not overcome us,\" the Queen has said, in an Easter message to the nation. While celebrations would be different for many this year, she said: \"We need Easter as much as ever.\" Referencing the tradition of lighting candles to mark the occasion, she said: \"As dark as death can be - particularly for those suffering with grief - light and life are greater.\" It comes as the number of coronavirus deaths in UK hospitals reached 9,875. Speaking from Windsor Castle, the Queen said many religions had festivals celebrating light overcoming darkness, which often featured the lighting of candles. She said: \"They seem to speak to every culture, and appeal to people of all faiths, and of none. \"They are lit on birthday cakes and to mark family anniversaries, when we gather happily around a source of light. It unites us.\" The monarch, who is head of the Church of England, said: \"As darkness falls on the Saturday before Easter Day, many Christians would normally light candles together.  \"In church, one light would pass to another, spreading slowly and then more rapidly as more candles are lit. It\\'s a way of showing how the good news of Christ\\'s resurrection has been passed on from the first Easter by every generation until now.\" As far as we know, this is the first time the Queen has released an Easter message. And coming as it does less than a week since the televised broadcast to the nation, it underlines the gravity of the situation as it is regarded by the monarch. It serves two purposes really; it is underlining the government\\'s public safety message, acknowledging Easter will be difficult for us but by keeping apart we keep others safe, and the broader Christian message of hope and reassurance.  We know how important her Christian faith is, and coming on the eve of Easter Sunday, it is clearly a significant time for people of all faiths, but particularly Christian faith. She said the discovery of the risen Christ on the first Easter Day gave his followers new hope and fresh purpose, adding that we could all take heart from this.  Wishing everyone of all faiths and denominations a blessed Easter, she said: \"May the living flame of the Easter hope be a steady guide as we face the future.\" The Queen, 93, recorded the audio message in the White Drawing Room at Windsor Castle, with one sound engineer in the next room.  The Palace described it as \"Her Majesty\\'s contribution to those who are celebrating Easter privately\".  It follows a speech on Sunday, in which the monarch delivered a rallying message to the nation. In it, she said the UK \"will succeed\" in its fight against the coronavirus pandemic, thanked people for following government rules about staying at home and praised those \"coming together to help others\". She also thanked key workers, saying \"every hour\" of work \"brings us closer to a return to more normal times\".'}\n",
        "    scraper_result = bbc_scraper('https://www.bbc.co.uk/news/uk-52255054')\n",
        "    assert json.loads(scraper_result) == results\n",
        "\n",
        "\n",
        "def test_extract_entities_google_org():\n",
        "    input_string = \"I work for Google.\"\n",
        "    results_dict = {'people':[],\n",
        "                    'places':[],\n",
        "                    'organisations': ['Google']\n",
        "                    }\n",
        "    extracted_entities_results = extract_entities(input_string)\n",
        "    assert json.loads(extracted_entities_results) == results_dict\n",
        "\n",
        "\n",
        "def test_extract_entities_name():\n",
        "    input_string = \"My name is Pete\"\n",
        "    results_dict = {'people':['Pete'],\n",
        "                    'places':[],\n",
        "                    'organisations': []\n",
        "                    }\n",
        "    extracted_entities_results = extract_entities(input_string)\n",
        "    assert json.loads(extracted_entities_results) == results_dict"
      ],
      "execution_count": 23,
      "outputs": []
    },
    {
      "cell_type": "code",
      "metadata": {
        "id": "-EtNG-mJK7pt"
      },
      "source": [
        "test_bbc_scrape()\n",
        "test_extract_entities_google_org()\n",
        "test_extract_entities_name()"
      ],
      "execution_count": 22,
      "outputs": []
    }
  ],
  "metadata": {
    "colab": {
      "provenance": [],
      "include_colab_link": true
    },
    "kernelspec": {
      "name": "python3",
      "display_name": "Python 3"
    }
  },
  "nbformat": 4,
  "nbformat_minor": 0
}